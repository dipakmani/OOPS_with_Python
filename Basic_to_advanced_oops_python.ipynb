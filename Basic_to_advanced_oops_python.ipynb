{
 "cells": [
  {
   "cell_type": "markdown",
   "id": "f07e204c",
   "metadata": {},
   "source": [
    "## Class"
   ]
  },
  {
   "cell_type": "raw",
   "id": "32487ff9",
   "metadata": {},
   "source": [
    "1. A class is a collection of objects. A class contains the blueprints or the prototype from which the objects are being\n",
    "created. It is a logical entity that contains some attributes and methods. \n",
    "\n",
    "2. To understand the need for creating a class let’s consider an example, let’s say you wanted to track the number of dogs that\n",
    "may have different attributes like breed, age. If a list is used, the first element could be the dog’s breed while the \n",
    "second element could represent its age. Let’s suppose there are 100 different dogs, then how would you know which element \n",
    "is supposed to be which? What if you wanted to add other properties to these dogs? This lacks organization and it’s the \n",
    "exact need for classes. \n",
    "class is a keyword is used to create a class"
   ]
  },
  {
   "cell_type": "markdown",
   "id": "90ef299a",
   "metadata": {},
   "source": [
    "## init Method"
   ]
  },
  {
   "cell_type": "code",
   "execution_count": null,
   "id": "591a569d",
   "metadata": {},
   "outputs": [],
   "source": [
    "__ init__() - This method is used to initilize the variables. This is a special method. we do not call this method explicitly\n",
    "Self is a variable which refers to current class instance/object\n",
    "Object is a class type variable or class instance. To use a class, we should create an object to the class"
   ]
  },
  {
   "cell_type": "markdown",
   "id": "c9076bea",
   "metadata": {},
   "source": [
    "### Some points on Python class: "
   ]
  },
  {
   "cell_type": "raw",
   "id": "e2694bec",
   "metadata": {},
   "source": [
    "1. Classes are created by keyword class.\n",
    "2. Attributes are the variables that belong to a class.\n",
    "3. Attributes are always public and can be accessed using the dot (.) operator. Eg.: Myclass.Myattribute"
   ]
  },
  {
   "cell_type": "markdown",
   "id": "f4d49a8c",
   "metadata": {},
   "source": [
    "### Example: Creating an empty Class in Python"
   ]
  },
  {
   "cell_type": "code",
   "execution_count": 1,
   "id": "400a8128",
   "metadata": {},
   "outputs": [],
   "source": [
    "class Dog:\n",
    "    pass"
   ]
  },
  {
   "cell_type": "raw",
   "id": "b950eb3e",
   "metadata": {},
   "source": [
    "In the above example, we have created a class named dog using the class keyword."
   ]
  },
  {
   "cell_type": "markdown",
   "id": "d9ab802a",
   "metadata": {},
   "source": [
    "## Objects"
   ]
  },
  {
   "cell_type": "raw",
   "id": "db4c5917",
   "metadata": {},
   "source": [
    "The object is an entity that has a state and behavior associated with it. It may be any real-world object like a mouse,\n",
    "keyboard, chair, table, pen, etc. Integers, strings, floating-point numbers, even arrays, and dictionaries, are all objects.\n",
    "More specifically, any single integer or any single string is an object. The number 12 is an object, the string “Hello, \n",
    "world” is an object, a list is an object that can hold other objects, and so on. You’ve been using objects all along and \n",
    "may not even realize it."
   ]
  },
  {
   "cell_type": "raw",
   "id": "9a05e5eb",
   "metadata": {},
   "source": [
    "An object consists of :\n",
    "\n",
    "State: It is represented by the attributes of an object. It also reflects the properties of an object.\n",
    "Behavior: It is represented by the methods of an object. It also reflects the response of an object to other objects.\n",
    "Identity: It gives a unique name to an object and enables one object to interact with other objects.\n",
    "To understand the state, behavior, and identity let us take the example of the class dog (explained above). \n",
    "\n",
    "The identity can be considered as the name of the dog.\n",
    "State or Attributes can be considered as the breed, age, or color of the dog.\n",
    "The behavior can be considered as to whether the dog is eating or sleeping."
   ]
  },
  {
   "cell_type": "code",
   "execution_count": 31,
   "id": "70557888",
   "metadata": {},
   "outputs": [
    {
     "name": "stdout",
     "output_type": "stream",
     "text": [
      "I am a Method\n"
     ]
    }
   ],
   "source": [
    "class Myclass:\n",
    "    def show(self):\n",
    "        print(\"I am a Method\")\n",
    "        \n",
    "x = Myclass()\n",
    "x.show()"
   ]
  },
  {
   "cell_type": "code",
   "execution_count": 32,
   "id": "e064e3af",
   "metadata": {},
   "outputs": [
    {
     "name": "stdout",
     "output_type": "stream",
     "text": [
      "Model: RealMe X\n"
     ]
    }
   ],
   "source": [
    "class Mobile:\n",
    "    def __init__(self):   \n",
    "        self.model = 'RealMe X'\n",
    "    def show_model(self):\n",
    "        print(\"Model:\", self.model)\n",
    "    \n",
    "realme = Mobile()\n",
    "realme.show_model()"
   ]
  },
  {
   "cell_type": "code",
   "execution_count": 33,
   "id": "06feac6e",
   "metadata": {},
   "outputs": [
    {
     "name": "stdout",
     "output_type": "stream",
     "text": [
      "Model: RealMe Pro2\n"
     ]
    }
   ],
   "source": [
    "class Mobile:\n",
    "    def __init__(self):\n",
    "        self.model = 'Realme X'\n",
    "        \n",
    "    def show_model(self):\n",
    "        print(\"Model:\",self.model)\n",
    "        \n",
    "realme = Mobile()\n",
    "realme.model = 'RealMe Pro2'\n",
    "realme.show_model()"
   ]
  },
  {
   "cell_type": "code",
   "execution_count": 34,
   "id": "07c50a00",
   "metadata": {},
   "outputs": [
    {
     "name": "stdout",
     "output_type": "stream",
     "text": [
      "Model: RealMe Pro2\n"
     ]
    }
   ],
   "source": [
    "class Mobile:\n",
    "    def __init__(self):\n",
    "        self.model = 'Realme X'\n",
    "        \n",
    "    def show_model(self):\n",
    "        print(\"Model:\",self.model)\n",
    "        \n",
    "realme = Mobile()\n",
    "realme.model = 'RealMe Pro2'\n",
    "realme.show_model()"
   ]
  },
  {
   "cell_type": "code",
   "execution_count": 35,
   "id": "05703739",
   "metadata": {},
   "outputs": [
    {
     "name": "stdout",
     "output_type": "stream",
     "text": [
      "Model: RealMe X price: 1000\n"
     ]
    }
   ],
   "source": [
    "class Mobile:\n",
    "    def __init__(self):   \n",
    "        self.model = 'RealMe X'\n",
    "    def show_model(self):\n",
    "        price = 1000\n",
    "        print(\"Model:\", self.model, \"price:\",price)\n",
    "    \n",
    "realme = Mobile()\n",
    "realme.show_model()"
   ]
  },
  {
   "cell_type": "code",
   "execution_count": 36,
   "id": "92edcf12",
   "metadata": {},
   "outputs": [
    {
     "name": "stdout",
     "output_type": "stream",
     "text": [
      "Model: Narzo 20A Price: 10000\n",
      "2247135036752\n",
      "\n",
      "Model: samsung 2s Price: 20000\n",
      "2247135037280\n",
      "\n",
      "Model: Python Price: 30000\n",
      "2247134871904\n"
     ]
    }
   ],
   "source": [
    "class Mobile():\n",
    "    def __init__(self,m):\n",
    "        self.model = m\n",
    "        \n",
    "    def show_model(self,p):\n",
    "        self.price = p\n",
    "        print(\"Model:\", self.model, \"Price:\", self.price)\n",
    "        \n",
    "realme = Mobile('Narzo 20A')\n",
    "realme.show_model(10000)\n",
    "print(id(realme))\n",
    "print()\n",
    "\n",
    "samsung = Mobile('samsung 2s')\n",
    "samsung.show_model(20000)\n",
    "print(id(samsung))\n",
    "print()\n",
    "\n",
    "geek = Mobile('Python')\n",
    "geek.show_model(30000)\n",
    "print(id(geek))"
   ]
  },
  {
   "cell_type": "code",
   "execution_count": 37,
   "id": "03bbbf75",
   "metadata": {},
   "outputs": [
    {
     "name": "stdout",
     "output_type": "stream",
     "text": [
      "5\n"
     ]
    }
   ],
   "source": [
    "class MyClass:\n",
    "    x = 5\n",
    "    \n",
    "p1 = MyClass()\n",
    "print(p1.x)"
   ]
  },
  {
   "cell_type": "raw",
   "id": "cd341ead",
   "metadata": {},
   "source": [
    "Note: The __init__() function is called automatically every time the class is being used to create a new object."
   ]
  },
  {
   "cell_type": "code",
   "execution_count": 39,
   "id": "8d39b6e5",
   "metadata": {},
   "outputs": [
    {
     "name": "stdout",
     "output_type": "stream",
     "text": [
      "pravin\n",
      "25\n"
     ]
    }
   ],
   "source": [
    "class Person:\n",
    "    def __init__(self,name,age):\n",
    "        self.name = name\n",
    "        self.age = age\n",
    "        \n",
    "p1 = Person(\"pravin\",25)\n",
    "\n",
    "print(p1.name)\n",
    "print(p1.age)"
   ]
  },
  {
   "cell_type": "code",
   "execution_count": 41,
   "id": "d2f5f83f",
   "metadata": {},
   "outputs": [
    {
     "name": "stdout",
     "output_type": "stream",
     "text": [
      "<__main__.Person object at 0x0000020B323A41F0>\n"
     ]
    }
   ],
   "source": [
    "class Person:\n",
    "    def __init__(self, name, age):\n",
    "        self.name = name\n",
    "        self.age = age\n",
    "\n",
    "p1 = Person(\"John\", 36)\n",
    "\n",
    "print(p1)"
   ]
  },
  {
   "cell_type": "code",
   "execution_count": 42,
   "id": "23574213",
   "metadata": {},
   "outputs": [
    {
     "name": "stdout",
     "output_type": "stream",
     "text": [
      "Yash(36)\n"
     ]
    }
   ],
   "source": [
    "class Person:\n",
    "    def __init__(self,name,age):\n",
    "        self.name = name\n",
    "        self.age = age\n",
    "        \n",
    "    def __str__(self):\n",
    "        return f\"{self.name}({self.age})\"\n",
    "    \n",
    "p1 = Person(\"Yash\", 36)\n",
    "print(p1)"
   ]
  },
  {
   "cell_type": "code",
   "execution_count": 43,
   "id": "fcd149fa",
   "metadata": {},
   "outputs": [
    {
     "name": "stdout",
     "output_type": "stream",
     "text": [
      "Hello my name is : aww\n"
     ]
    }
   ],
   "source": [
    "# Insert a function that prints a greeting, and execute it on the p1 object:\n",
    "\n",
    "class Person:\n",
    "    def __init__(self,name,age):\n",
    "        self.name = name\n",
    "        self.age = age\n",
    "    \n",
    "    def myfunc(self):\n",
    "        print(\"Hello my name is : \" + self.name)\n",
    "        \n",
    "p1 = Person(\"aww\",36)\n",
    "p1.myfunc()"
   ]
  },
  {
   "cell_type": "raw",
   "id": "24e7c816",
   "metadata": {},
   "source": [
    "Note: The self parameter is a reference to the current instance of the class, and is used to access variables that belong to the\n",
    "class."
   ]
  },
  {
   "cell_type": "markdown",
   "id": "207604b5",
   "metadata": {},
   "source": [
    "## The self Parameter"
   ]
  },
  {
   "cell_type": "raw",
   "id": "e474dcd1",
   "metadata": {},
   "source": [
    "The self parameter is a reference to the current instance of the class, and is used to access variables that belongs to the class.\n",
    "It does not have to be named self , you can call it whatever you like, but it has to be the first parameter of any function in\n",
    "the class:"
   ]
  },
  {
   "cell_type": "raw",
   "id": "a9881b77",
   "metadata": {},
   "source": [
    "Use the words mysillyobject and abc instead of self:"
   ]
  },
  {
   "cell_type": "code",
   "execution_count": 46,
   "id": "01ef78bc",
   "metadata": {},
   "outputs": [
    {
     "name": "stdout",
     "output_type": "stream",
     "text": [
      "Hello my name is Dipak\n"
     ]
    }
   ],
   "source": [
    "class Person:\n",
    "  def __init__(mysillyobject, name, age):\n",
    "    mysillyobject.name = name\n",
    "    mysillyobject.age = age\n",
    "\n",
    "  def myfunc(abc):\n",
    "    print(\"Hello my name is \" + abc.name)\n",
    "\n",
    "p1 = Person(\"Dipak\", 25)\n",
    "p1.myfunc()"
   ]
  },
  {
   "cell_type": "code",
   "execution_count": 48,
   "id": "19a49164",
   "metadata": {},
   "outputs": [
    {
     "data": {
      "text/plain": [
       "25"
      ]
     },
     "execution_count": 48,
     "metadata": {},
     "output_type": "execute_result"
    }
   ],
   "source": [
    "p1.age"
   ]
  },
  {
   "cell_type": "code",
   "execution_count": 51,
   "id": "095548c6",
   "metadata": {},
   "outputs": [],
   "source": [
    "p1.age = 26"
   ]
  },
  {
   "cell_type": "code",
   "execution_count": 52,
   "id": "b6876980",
   "metadata": {},
   "outputs": [
    {
     "data": {
      "text/plain": [
       "26"
      ]
     },
     "execution_count": 52,
     "metadata": {},
     "output_type": "execute_result"
    }
   ],
   "source": [
    "p1.age"
   ]
  },
  {
   "cell_type": "code",
   "execution_count": 53,
   "id": "453d4f47",
   "metadata": {},
   "outputs": [
    {
     "ename": "AttributeError",
     "evalue": "'Person' object has no attribute 'age'",
     "output_type": "error",
     "traceback": [
      "\u001b[1;31m---------------------------------------------------------------------------\u001b[0m",
      "\u001b[1;31mAttributeError\u001b[0m                            Traceback (most recent call last)",
      "Input \u001b[1;32mIn [53]\u001b[0m, in \u001b[0;36m<cell line: 15>\u001b[1;34m()\u001b[0m\n\u001b[0;32m     11\u001b[0m p1 \u001b[38;5;241m=\u001b[39m Person(\u001b[38;5;124m\"\u001b[39m\u001b[38;5;124mJohn\u001b[39m\u001b[38;5;124m\"\u001b[39m, \u001b[38;5;241m36\u001b[39m)\n\u001b[0;32m     13\u001b[0m \u001b[38;5;28;01mdel\u001b[39;00m p1\u001b[38;5;241m.\u001b[39mage\n\u001b[1;32m---> 15\u001b[0m \u001b[38;5;28mprint\u001b[39m(\u001b[43mp1\u001b[49m\u001b[38;5;241;43m.\u001b[39;49m\u001b[43mage\u001b[49m)\n",
      "\u001b[1;31mAttributeError\u001b[0m: 'Person' object has no attribute 'age'"
     ]
    }
   ],
   "source": [
    "# Delete Object Properties\n",
    "\n",
    "class Person:\n",
    "  def __init__(self, name, age):\n",
    "    self.name = name\n",
    "    self.age = age\n",
    "\n",
    "  def myfunc(self):\n",
    "    print(\"Hello my name is \" + self.name)\n",
    "\n",
    "p1 = Person(\"John\", 36)\n",
    "\n",
    "del p1.age\n",
    "\n",
    "print(p1.age)"
   ]
  },
  {
   "cell_type": "code",
   "execution_count": 54,
   "id": "555c8891",
   "metadata": {},
   "outputs": [
    {
     "name": "stdout",
     "output_type": "stream",
     "text": [
      "mammal\n",
      "I'm a mammal\n",
      "I'm a dog\n"
     ]
    }
   ],
   "source": [
    "class Dog:\n",
    " \n",
    "    # A simple class\n",
    "    # attribute\n",
    "    attr1 = \"mammal\"\n",
    "    attr2 = \"dog\"\n",
    " \n",
    "    # A sample method\n",
    "    def fun(self):\n",
    "        print(\"I'm a\", self.attr1)\n",
    "        print(\"I'm a\", self.attr2)\n",
    " \n",
    " \n",
    "# Driver code\n",
    "# Object instantiation\n",
    "Rodger = Dog()\n",
    " \n",
    "# Accessing class attributes\n",
    "# and method through objects\n",
    "print(Rodger.attr1)\n",
    "Rodger.fun()"
   ]
  },
  {
   "cell_type": "raw",
   "id": "280194df",
   "metadata": {},
   "source": [
    "__init__ method\n",
    "The __init__ method is similar to constructors in C++ and Java. Constructors are used to initialize the object’s state.\n",
    "Like methods, a constructor also contains a collection of statements(i.e. instructions) that are executed at the time of Object\n",
    "creation. It runs as soon as an object of a class is instantiated.\n",
    "The method is useful to do any initialization you want to do with your object."
   ]
  },
  {
   "cell_type": "code",
   "execution_count": 55,
   "id": "9c2ec741",
   "metadata": {},
   "outputs": [
    {
     "name": "stdout",
     "output_type": "stream",
     "text": [
      "Hello, my name is Nikhil\n"
     ]
    }
   ],
   "source": [
    "# Sample class with init method\n",
    "class Person:\n",
    " \n",
    "    # init method or constructor\n",
    "    def __init__(self, name):\n",
    "        self.name = name\n",
    " \n",
    "    # Sample Method\n",
    "    def say_hi(self):\n",
    "        print('Hello, my name is', self.name)\n",
    " \n",
    " \n",
    "p = Person('Nikhil')\n",
    "p.say_hi()"
   ]
  },
  {
   "cell_type": "raw",
   "id": "b783b657",
   "metadata": {},
   "source": [
    "Class and Instance Variables\n",
    "Instance variables are for data, unique to each instance and class variables are for attributes and methods shared by all \n",
    "instances of the class. Instance variables are variables whose value is assigned inside a constructor or method with self\n",
    "whereas class variables are variables whose value is assigned in the class.\n",
    "\n",
    "Defining instance variables using a constructor. "
   ]
  },
  {
   "cell_type": "code",
   "execution_count": 56,
   "id": "dfad6801",
   "metadata": {},
   "outputs": [
    {
     "name": "stdout",
     "output_type": "stream",
     "text": [
      "Rodger details:\n",
      "Rodger is a dog\n",
      "Breed:  Pug\n",
      "Color:  brown\n",
      "\n",
      "Buzo details:\n",
      "Buzo is a dog\n",
      "Breed:  Bulldog\n",
      "Color:  black\n",
      "\n",
      "Accessing class variable using class name\n",
      "dog\n"
     ]
    }
   ],
   "source": [
    "\n",
    "# Python3 program to show that the variables with a value\n",
    "# assigned in the class declaration, are class variables and\n",
    "# variables inside methods and constructors are instance\n",
    "# variables.\n",
    " \n",
    "# Class for Dog\n",
    " \n",
    " \n",
    "class Dog:\n",
    " \n",
    "    # Class Variable\n",
    "    animal = 'dog'\n",
    " \n",
    "    # The init method or constructor\n",
    "    def __init__(self, breed, color):\n",
    " \n",
    "        # Instance Variable\n",
    "        self.breed = breed\n",
    "        self.color = color\n",
    " \n",
    " \n",
    "# Objects of Dog class\n",
    "Rodger = Dog(\"Pug\", \"brown\")\n",
    "Buzo = Dog(\"Bulldog\", \"black\")\n",
    " \n",
    "print('Rodger details:')\n",
    "print('Rodger is a', Rodger.animal)\n",
    "print('Breed: ', Rodger.breed)\n",
    "print('Color: ', Rodger.color)\n",
    " \n",
    "print('\\nBuzo details:')\n",
    "print('Buzo is a', Buzo.animal)\n",
    "print('Breed: ', Buzo.breed)\n",
    "print('Color: ', Buzo.color)\n",
    " \n",
    "# Class variables can be accessed using class\n",
    "# name also\n",
    "print(\"\\nAccessing class variable using class name\")\n",
    "print(Dog.animal)"
   ]
  },
  {
   "cell_type": "markdown",
   "id": "a819a948",
   "metadata": {},
   "source": [
    "### Defining instance variables using the normal method."
   ]
  },
  {
   "cell_type": "code",
   "execution_count": 57,
   "id": "6744bef2",
   "metadata": {},
   "outputs": [
    {
     "name": "stdout",
     "output_type": "stream",
     "text": [
      "brown\n"
     ]
    }
   ],
   "source": [
    "# Python3 program to show that we can create\n",
    "# instance variables inside methods\n",
    " \n",
    "# Class for Dog\n",
    " \n",
    " \n",
    "class Dog:\n",
    " \n",
    "    # Class Variable\n",
    "    animal = 'dog'\n",
    " \n",
    "    # The init method or constructor\n",
    "    def __init__(self, breed):\n",
    " \n",
    "        # Instance Variable\n",
    "        self.breed = breed\n",
    " \n",
    "    # Adds an instance variable\n",
    "    def setColor(self, color):\n",
    "        self.color = color\n",
    " \n",
    "    # Retrieves instance variable\n",
    "    def getColor(self):\n",
    "        return self.color\n",
    " \n",
    " \n",
    "# Driver Code\n",
    "Rodger = Dog(\"pug\")\n",
    "Rodger.setColor(\"brown\")\n",
    "print(Rodger.getColor())"
   ]
  },
  {
   "cell_type": "code",
   "execution_count": 62,
   "id": "631c6b46",
   "metadata": {},
   "outputs": [],
   "source": [
    "class Dog:\n",
    "    species = \"Canis familiaris\"\n",
    "    def __init__(self, name, age):\n",
    "        self.name = name\n",
    "        self.age = age\n",
    "        \n",
    "buddy =   Dog('egle',12)"
   ]
  },
  {
   "cell_type": "code",
   "execution_count": 63,
   "id": "fe4d22aa",
   "metadata": {},
   "outputs": [
    {
     "data": {
      "text/plain": [
       "12"
      ]
     },
     "execution_count": 63,
     "metadata": {},
     "output_type": "execute_result"
    }
   ],
   "source": [
    "buddy.age"
   ]
  },
  {
   "cell_type": "code",
   "execution_count": 64,
   "id": "2f0a7d7b",
   "metadata": {},
   "outputs": [
    {
     "ename": "SyntaxError",
     "evalue": "invalid syntax (3764552818.py, line 4)",
     "output_type": "error",
     "traceback": [
      "\u001b[1;36m  Input \u001b[1;32mIn [64]\u001b[1;36m\u001b[0m\n\u001b[1;33m    print(\"Your roll no. is : \", self.roll no)\u001b[0m\n\u001b[1;37m                                           ^\u001b[0m\n\u001b[1;31mSyntaxError\u001b[0m\u001b[1;31m:\u001b[0m invalid syntax\n"
     ]
    }
   ],
   "source": [
    "class SchoolForm:\n",
    "    def printDetails(self):\n",
    "            print(\"Your name is : \", self.name)\n",
    "            print(\"Your roll no. is : \", self.roll no)\n",
    "        \n",
    "rahul = SchoolForm()\n",
    "rahul.name = 'rahul'\n",
    "rahul.rollno = '101'\n",
    "rahul.printDetails()"
   ]
  },
  {
   "cell_type": "code",
   "execution_count": 2,
   "id": "aa278917",
   "metadata": {},
   "outputs": [],
   "source": [
    "class Person:\n",
    "    def __init__(self, name, age):\n",
    "        self.name = name\n",
    "        self.age = age\n",
    "    \n",
    "    def greet(self):\n",
    "        print(f\"Hello, my name is {self.name} and I am {self.age} years old.\")"
   ]
  },
  {
   "cell_type": "code",
   "execution_count": 3,
   "id": "2129a7d0",
   "metadata": {},
   "outputs": [],
   "source": [
    "person = Person(\"Dipak\", 25)"
   ]
  },
  {
   "cell_type": "code",
   "execution_count": 4,
   "id": "f6f2695e",
   "metadata": {},
   "outputs": [
    {
     "data": {
      "text/plain": [
       "25"
      ]
     },
     "execution_count": 4,
     "metadata": {},
     "output_type": "execute_result"
    }
   ],
   "source": [
    "person.age"
   ]
  },
  {
   "cell_type": "code",
   "execution_count": 5,
   "id": "5c081f5d",
   "metadata": {},
   "outputs": [
    {
     "name": "stdout",
     "output_type": "stream",
     "text": [
      "Hello, my name is Dipak and I am 25 years old.\n"
     ]
    }
   ],
   "source": [
    "person.greet()"
   ]
  },
  {
   "cell_type": "markdown",
   "id": "35c3f56a",
   "metadata": {},
   "source": [
    "### Car Class"
   ]
  },
  {
   "cell_type": "code",
   "execution_count": 6,
   "id": "1796358a",
   "metadata": {},
   "outputs": [],
   "source": [
    "class Car:\n",
    "    def __init__(self, make, model, year):\n",
    "        self.make = make\n",
    "        self.model = model\n",
    "        self.year = year\n",
    "    \n",
    "    def start(self):\n",
    "        print(f\"{self.make} {self.model} ({self.year}) is starting.\")\n",
    "    \n",
    "    def stop(self):\n",
    "        print(f\"{self.make} {self.model} ({self.year}) is stopping.\")"
   ]
  },
  {
   "cell_type": "code",
   "execution_count": 7,
   "id": "7815e1a3",
   "metadata": {},
   "outputs": [
    {
     "name": "stdout",
     "output_type": "stream",
     "text": [
      "Toyota Camry (2021) is starting.\n",
      "Toyota Camry (2021) is stopping.\n"
     ]
    }
   ],
   "source": [
    "car = Car(\"Toyota\", \"Camry\", 2021)\n",
    "car.start()  \n",
    "car.stop()"
   ]
  },
  {
   "cell_type": "markdown",
   "id": "a1e1081a",
   "metadata": {},
   "source": [
    "## Rectangle class"
   ]
  },
  {
   "cell_type": "code",
   "execution_count": 8,
   "id": "e63d781e",
   "metadata": {},
   "outputs": [],
   "source": [
    "class Rectangle:\n",
    "    def __init__(self, width, height):\n",
    "        self.width = width\n",
    "        self.height = height\n",
    "    \n",
    "    def area(self):\n",
    "        return self.width * self.height\n",
    "    \n",
    "    def perimeter(self):\n",
    "        return 2 * (self.width + self.height)"
   ]
  },
  {
   "cell_type": "code",
   "execution_count": 9,
   "id": "32a4371e",
   "metadata": {},
   "outputs": [
    {
     "name": "stdout",
     "output_type": "stream",
     "text": [
      "50\n",
      "30\n"
     ]
    }
   ],
   "source": [
    "rect = Rectangle(5, 10)\n",
    "print(rect.area()) \n",
    "print(rect.perimeter())"
   ]
  },
  {
   "cell_type": "markdown",
   "id": "e71bca0e",
   "metadata": {},
   "source": [
    "### Creating an object"
   ]
  },
  {
   "cell_type": "code",
   "execution_count": 10,
   "id": "1600180b",
   "metadata": {},
   "outputs": [],
   "source": [
    "obj = Dog()"
   ]
  },
  {
   "cell_type": "raw",
   "id": "517d28ce",
   "metadata": {},
   "source": [
    "Example 1: Creating a class and object with class and instance attributes"
   ]
  },
  {
   "cell_type": "code",
   "execution_count": 11,
   "id": "c1c0c7a1",
   "metadata": {},
   "outputs": [
    {
     "name": "stdout",
     "output_type": "stream",
     "text": [
      "Rodger is a mammal\n",
      "Tommy is also a mammal\n",
      "My name is Rodger\n",
      "My name is Tommy\n"
     ]
    }
   ],
   "source": [
    "class Dog:\n",
    "\n",
    "     # class attribute\n",
    "    attr1 = \"mammal\"\n",
    "\n",
    "    # Instance attribute\n",
    "    def __init__(self, name):\n",
    "        self.name = name\n",
    "\n",
    "# Driver code\n",
    "# Object instantiation\n",
    "Rodger = Dog(\"Rodger\")\n",
    "Tommy = Dog(\"Tommy\")\n",
    "\n",
    "# Accessing class attributes\n",
    "print(\"Rodger is a {}\".format(Rodger.__class__.attr1))\n",
    "print(\"Tommy is also a {}\".format(Tommy.__class__.attr1))\n",
    "\n",
    "# Accessing instance attributes\n",
    "print(\"My name is {}\".format(Rodger.name))\n",
    "print(\"My name is {}\".format(Tommy.name))"
   ]
  },
  {
   "cell_type": "raw",
   "id": "4cdcdf83",
   "metadata": {},
   "source": [
    "Example 2: Creating Class and objects with methods"
   ]
  },
  {
   "cell_type": "code",
   "execution_count": 12,
   "id": "2caa66d7",
   "metadata": {},
   "outputs": [
    {
     "name": "stdout",
     "output_type": "stream",
     "text": [
      "My name is Rodger\n",
      "My name is Tommy\n"
     ]
    }
   ],
   "source": [
    "class Dog:\n",
    "    \n",
    "    # class attribute\n",
    "    attr1 = \"mammal\"\n",
    "    \n",
    "    # Instance attribute\n",
    "    def __init__(self, name):\n",
    "        self.name = name\n",
    "        \n",
    "    def speak(self):\n",
    "        print(\"My name is {}\".format(self.name))\n",
    "        \n",
    "        # Driver code\n",
    "# Object instantiation\n",
    "Rodger = Dog(\"Rodger\")\n",
    "Tommy = Dog(\"Tommy\")\n",
    " \n",
    "# Accessing class methods\n",
    "Rodger.speak()\n",
    "Tommy.speak()\n"
   ]
  },
  {
   "cell_type": "code",
   "execution_count": 13,
   "id": "45e86f53",
   "metadata": {},
   "outputs": [
    {
     "name": "stdout",
     "output_type": "stream",
     "text": [
      "the original string is : Geeksforgeeks\n",
      "The reversed string(using loops) is : skeegrofskeeG\n"
     ]
    }
   ],
   "source": [
    "def reverse(s):\n",
    "    str = \"\"\n",
    "    for i in s:\n",
    "        str = i + str\n",
    "    return str\n",
    "\n",
    "s = \"Geeksforgeeks\"\n",
    "\n",
    "print(\"the original string is : \", end = \"\")\n",
    "print(s)\n",
    "\n",
    "print(\"The reversed string(using loops) is : \", end=\"\")\n",
    "print(reverse(s))"
   ]
  },
  {
   "cell_type": "code",
   "execution_count": 14,
   "id": "9bfa33a8",
   "metadata": {},
   "outputs": [
    {
     "name": "stdout",
     "output_type": "stream",
     "text": [
      "Enter any word:abcd\n",
      "the original string is : abcd\n",
      "The reversed string(using loops) is : dcba\n"
     ]
    }
   ],
   "source": [
    "def reverse(s):\n",
    "    str = \"\"\n",
    "    for i in s:\n",
    "        str = i + str\n",
    "    return str\n",
    "\n",
    "s = str(input(\"Enter any word:\"))\n",
    "\n",
    "print(\"the original string is : \", end = \"\")\n",
    "print(s)\n",
    "\n",
    "print(\"The reversed string(using loops) is : \", end=\"\")\n",
    "print(reverse(s))"
   ]
  },
  {
   "cell_type": "markdown",
   "id": "54da0fbd",
   "metadata": {},
   "source": [
    "### Program description:- Python program to print numbers from 1 to 10 using while loop"
   ]
  },
  {
   "cell_type": "code",
   "execution_count": 17,
   "id": "d61fbd31",
   "metadata": {},
   "outputs": [
    {
     "name": "stdout",
     "output_type": "stream",
     "text": [
      "1234567891011\n"
     ]
    }
   ],
   "source": [
    "#|print('Numbers from 1 to 10:')\n",
    "n = 1\n",
    "while n <= 10:\n",
    "    print(n, end = '')\n",
    "    n = n + 1\n",
    "print(n)"
   ]
  },
  {
   "cell_type": "code",
   "execution_count": 18,
   "id": "d253b6ab",
   "metadata": {},
   "outputs": [],
   "source": [
    "class car:\n",
    "    pass"
   ]
  },
  {
   "cell_type": "code",
   "execution_count": 19,
   "id": "77dc5b7d",
   "metadata": {},
   "outputs": [],
   "source": [
    "class car:\n",
    "    def __init__(self, brand_name, fueltype, body_type):\n",
    "        \n",
    "        self.brand_name = brand_name\n",
    "        self.fueltype = fueltype\n",
    "        self.body_type = body_type\n",
    "        \n",
    "    def desc_car(self):\n",
    "        print(self.brand_name, self.fueltype, self.body_type)"
   ]
  },
  {
   "cell_type": "code",
   "execution_count": 20,
   "id": "295f8e43",
   "metadata": {},
   "outputs": [],
   "source": [
    "innova = car(\"toyota\" , \"petrol\" , \"suv\")\n",
    "nexon = car(\"tata\", \"petrol\", \"min suv\")"
   ]
  },
  {
   "cell_type": "code",
   "execution_count": 21,
   "id": "72cb9621",
   "metadata": {},
   "outputs": [
    {
     "data": {
      "text/plain": [
       "'toyota'"
      ]
     },
     "execution_count": 21,
     "metadata": {},
     "output_type": "execute_result"
    }
   ],
   "source": [
    "innova.brand_name"
   ]
  },
  {
   "cell_type": "code",
   "execution_count": 22,
   "id": "da3b9d1d",
   "metadata": {},
   "outputs": [
    {
     "data": {
      "text/plain": [
       "'tata'"
      ]
     },
     "execution_count": 22,
     "metadata": {},
     "output_type": "execute_result"
    }
   ],
   "source": [
    "nexon.brand_name"
   ]
  },
  {
   "cell_type": "code",
   "execution_count": 23,
   "id": "b20ab79d",
   "metadata": {},
   "outputs": [
    {
     "name": "stdout",
     "output_type": "stream",
     "text": [
      "toyota petrol suv\n"
     ]
    }
   ],
   "source": [
    "innova.desc_car()"
   ]
  },
  {
   "cell_type": "code",
   "execution_count": 24,
   "id": "77ffe349",
   "metadata": {},
   "outputs": [],
   "source": [
    "a = 10"
   ]
  },
  {
   "cell_type": "code",
   "execution_count": null,
   "id": "57125b6a",
   "metadata": {},
   "outputs": [],
   "source": []
  }
 ],
 "metadata": {
  "kernelspec": {
   "display_name": "Python 3 (ipykernel)",
   "language": "python",
   "name": "python3"
  },
  "language_info": {
   "codemirror_mode": {
    "name": "ipython",
    "version": 3
   },
   "file_extension": ".py",
   "mimetype": "text/x-python",
   "name": "python",
   "nbconvert_exporter": "python",
   "pygments_lexer": "ipython3",
   "version": "3.9.7"
  }
 },
 "nbformat": 4,
 "nbformat_minor": 5
}
